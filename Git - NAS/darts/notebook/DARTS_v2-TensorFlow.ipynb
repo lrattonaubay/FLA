{
  "cells": [
    {
      "cell_type": "markdown",
      "metadata": {
        "id": "f5JTEfFopL2a"
      },
      "source": [
        "# DARTS (Differentiable Architecture Search)"
      ]
    },
    {
      "cell_type": "markdown",
      "metadata": {
        "id": "O6Lk07rHtG6b"
      },
      "source": [
        "## Quelques instructions :\n",
        "\n",
        "- Télécharger le projet [GitLab](http://gitlab.aubay.io/development/innov/fla/poc/2022-s1/nas.git) \n",
        "- L'importer sur son drive\n",
        "\n"
      ]
    },
    {
      "cell_type": "markdown",
      "metadata": {
        "id": "RBE7GDhUtWiZ"
      },
      "source": [
        "## Mise en place :\n",
        "\n",
        "- Connection au drive contenant le projet\n",
        "- Accès aux fichier nécessaires"
      ]
    },
    {
      "cell_type": "code",
      "execution_count": 1,
      "metadata": {
        "colab": {
          "base_uri": "https://localhost:8080/"
        },
        "id": "_TIeL64yzw3K",
        "outputId": "afe967e2-1aed-4ea5-92e3-81573f45f1c3"
      },
      "outputs": [
        {
          "output_type": "stream",
          "name": "stdout",
          "text": [
            "Mounted at /content/drive\n"
          ]
        }
      ],
      "source": [
        "from google.colab import drive\n",
        "drive.mount('/content/drive')"
      ]
    },
    {
      "cell_type": "code",
      "execution_count": 2,
      "metadata": {
        "colab": {
          "base_uri": "https://localhost:8080/"
        },
        "id": "QqFZZAfYF7JR",
        "outputId": "368a7fb9-0ae7-49d6-97d7-17d42c3d6632"
      },
      "outputs": [
        {
          "output_type": "stream",
          "name": "stdout",
          "text": [
            "/content/drive/MyDrive/nas-main/darts/project/tensorflow/darts_v2\n",
            "choices.py  darts_utils.py  model.py  search.py\n",
            "darts.py    datasets.py     ops.py    utils.py\n"
          ]
        }
      ],
      "source": [
        "%cd drive/MyDrive/nas-main/darts/project/tensorflow/darts_v2\n",
        "%ls"
      ]
    },
    {
      "cell_type": "markdown",
      "metadata": {
        "id": "xXnJSq5fte1r"
      },
      "source": [
        "## Insallation des librairies :\n",
        "\n",
        "- nni pour les classes de base sur lesquelles reposent le DARTS\n",
        "- graphviz pour générer une visualisation graphique de l'architecture d'une cellule (en cas d'appel de l'argument --visualization)"
      ]
    },
    {
      "cell_type": "code",
      "execution_count": 3,
      "metadata": {
        "colab": {
          "base_uri": "https://localhost:8080/"
        },
        "id": "xFWMrfZoHg0D",
        "outputId": "74d1a9e6-3d9f-4b4d-bd67-3d897ca63732"
      },
      "outputs": [
        {
          "output_type": "stream",
          "name": "stdout",
          "text": [
            "Requirement already satisfied: graphviz in /usr/local/lib/python3.7/dist-packages (0.10.1)\n"
          ]
        }
      ],
      "source": [
        "!pip install graphviz"
      ]
    },
    {
      "cell_type": "markdown",
      "metadata": {
        "id": "L16wipH1uCRD"
      },
      "source": [
        "## Lancement du code :"
      ]
    },
    {
      "cell_type": "code",
      "execution_count": 4,
      "metadata": {
        "colab": {
          "base_uri": "https://localhost:8080/"
        },
        "id": "xN66UWPQGFcr",
        "outputId": "d11985b9-37be-4d44-bff8-5f7108e03afe"
      },
      "outputs": [
        {
          "output_type": "stream",
          "name": "stdout",
          "text": [
            "Downloading data from https://www.cs.toronto.edu/~kriz/cifar-10-python.tar.gz\n",
            "170500096/170498071 [==============================] - 2s 0us/step\n",
            "170508288/170498071 [==============================] - 2s 0us/step\n",
            "2022-05-19 12:05:56.888223: W tensorflow/core/common_runtime/gpu/gpu_bfc_allocator.cc:39] Overriding allow_growth setting because the TF_FORCE_GPU_ALLOW_GROWTH environment variable is set. Original config value was 0.\n",
            "2022-05-19 12:05:58.533919: W tensorflow/python/util/util.cc:368] Sets are not currently considered sequences, but this may change in the future, so consider avoiding using them.\n",
            "( 0:00:36.617812 )  Epoch [1/2] - Step [0/390]   Loss = 2.3021   Accuracy = 0.1250\n",
            "( 0:02:11.711564 )  Epoch [1/2] - Step [10/390]   Loss = 2.3022   Accuracy = 0.1125\n",
            "( 0:03:46.597897 )  Epoch [1/2] - Step [20/390]   Loss = 2.3025   Accuracy = 0.1047\n",
            "( 0:05:21.493012 )  Epoch [1/2] - Step [30/390]   Loss = 2.3028   Accuracy = 0.0859\n",
            "( 0:06:56.434132 )  Epoch [1/2] - Step [40/390]   Loss = 2.3026   Accuracy = 0.0938\n",
            "( 0:08:31.272047 )  Epoch [1/2] - Step [50/390]   Loss = 2.3026   Accuracy = 0.1094\n",
            "( 0:10:06.143498 )  Epoch [1/2] - Step [60/390]   Loss = 2.3026   Accuracy = 0.1094\n",
            "( 0:11:41.041149 )  Epoch [1/2] - Step [70/390]   Loss = 2.3027   Accuracy = 0.0844\n",
            "( 0:13:15.903409 )  Epoch [1/2] - Step [80/390]   Loss = 2.3026   Accuracy = 0.1000\n",
            "( 0:14:50.840911 )  Epoch [1/2] - Step [90/390]   Loss = 2.3023   Accuracy = 0.1219\n",
            "( 0:16:25.677436 )  Epoch [1/2] - Step [100/390]   Loss = 2.3027   Accuracy = 0.1031\n",
            "( 0:18:00.511561 )  Epoch [1/2] - Step [110/390]   Loss = 2.3028   Accuracy = 0.0766\n",
            "( 0:19:35.327959 )  Epoch [1/2] - Step [120/390]   Loss = 2.3024   Accuracy = 0.0875\n",
            "( 0:21:10.116827 )  Epoch [1/2] - Step [130/390]   Loss = 2.3024   Accuracy = 0.0844\n",
            "( 0:22:44.897060 )  Epoch [1/2] - Step [140/390]   Loss = 2.3024   Accuracy = 0.1078\n",
            "( 0:24:19.243403 )  Epoch [1/2] - Step [150/390]   Loss = 2.3021   Accuracy = 0.0906\n",
            "( 0:25:53.455872 )  Epoch [1/2] - Step [160/390]   Loss = 2.3026   Accuracy = 0.0938\n",
            "( 0:27:27.775958 )  Epoch [1/2] - Step [170/390]   Loss = 2.3027   Accuracy = 0.0891\n",
            "( 0:29:01.992002 )  Epoch [1/2] - Step [180/390]   Loss = 2.3030   Accuracy = 0.0828\n",
            "( 0:30:36.227903 )  Epoch [1/2] - Step [190/390]   Loss = 2.3024   Accuracy = 0.1031\n",
            "( 0:32:11.011727 )  Epoch [1/2] - Step [200/390]   Loss = 2.3026   Accuracy = 0.0953\n",
            "( 0:33:45.989563 )  Epoch [1/2] - Step [210/390]   Loss = 2.3025   Accuracy = 0.0969\n",
            "( 0:35:20.891700 )  Epoch [1/2] - Step [220/390]   Loss = 2.3022   Accuracy = 0.1016\n",
            "( 0:36:55.840488 )  Epoch [1/2] - Step [230/390]   Loss = 2.3025   Accuracy = 0.1016\n",
            "( 0:38:30.790384 )  Epoch [1/2] - Step [240/390]   Loss = 2.3029   Accuracy = 0.1078\n",
            "( 0:40:05.689940 )  Epoch [1/2] - Step [250/390]   Loss = 2.3026   Accuracy = 0.0812\n",
            "( 0:41:40.596186 )  Epoch [1/2] - Step [260/390]   Loss = 2.3023   Accuracy = 0.1078\n",
            "( 0:43:15.486607 )  Epoch [1/2] - Step [270/390]   Loss = 2.3021   Accuracy = 0.1125\n",
            "( 0:44:50.340653 )  Epoch [1/2] - Step [280/390]   Loss = 2.3028   Accuracy = 0.1016\n",
            "( 0:46:25.311336 )  Epoch [1/2] - Step [290/390]   Loss = 2.3033   Accuracy = 0.0781\n",
            "( 0:48:00.184439 )  Epoch [1/2] - Step [300/390]   Loss = 2.3025   Accuracy = 0.1063\n",
            "( 0:49:35.378644 )  Epoch [1/2] - Step [310/390]   Loss = 2.3025   Accuracy = 0.1187\n",
            "( 0:51:10.717484 )  Epoch [1/2] - Step [320/390]   Loss = 2.3028   Accuracy = 0.0781\n",
            "( 0:52:45.864224 )  Epoch [1/2] - Step [330/390]   Loss = 2.3022   Accuracy = 0.0969\n",
            "( 0:54:20.913079 )  Epoch [1/2] - Step [340/390]   Loss = 2.3020   Accuracy = 0.1297\n",
            "( 0:55:56.234895 )  Epoch [1/2] - Step [350/390]   Loss = 2.3027   Accuracy = 0.1063\n",
            "( 0:57:31.262757 )  Epoch [1/2] - Step [360/390]   Loss = 2.3027   Accuracy = 0.0859\n",
            "( 0:59:06.406240 )  Epoch [1/2] - Step [370/390]   Loss = 2.3025   Accuracy = 0.1078\n",
            "( 1:00:41.638245 )  Epoch [1/2] - Step [380/390]   Loss = 2.3022   Accuracy = 0.1250\n",
            "( 1:02:23.156225 )  Epoch [1/2] - Step [390/390]   Loss = 2.3028   Accuracy = 0.0844\n",
            "( 1:02:23.161032 )  Epoch 1: Loss: 2.3025, Accuracy: 9.9160%\n",
            "( 0:00:10.119208 )  Epoch [2/2] - Step [0/390]   Loss = 2.3021   Accuracy = 0.1250\n",
            "( 0:01:45.490776 )  Epoch [2/2] - Step [10/390]   Loss = 2.3022   Accuracy = 0.1125\n",
            "( 0:03:20.720868 )  Epoch [2/2] - Step [20/390]   Loss = 2.3025   Accuracy = 0.1047\n",
            "( 0:04:55.957778 )  Epoch [2/2] - Step [30/390]   Loss = 2.3028   Accuracy = 0.0859\n",
            "( 0:06:30.838320 )  Epoch [2/2] - Step [40/390]   Loss = 2.3026   Accuracy = 0.0938\n",
            "( 0:08:05.697173 )  Epoch [2/2] - Step [50/390]   Loss = 2.3026   Accuracy = 0.1094\n",
            "( 0:09:40.646365 )  Epoch [2/2] - Step [60/390]   Loss = 2.3026   Accuracy = 0.1094\n",
            "( 0:11:15.628962 )  Epoch [2/2] - Step [70/390]   Loss = 2.3027   Accuracy = 0.0844\n",
            "( 0:12:50.531225 )  Epoch [2/2] - Step [80/390]   Loss = 2.3026   Accuracy = 0.1000\n",
            "( 0:14:25.506990 )  Epoch [2/2] - Step [90/390]   Loss = 2.3023   Accuracy = 0.1219\n",
            "( 0:16:00.428559 )  Epoch [2/2] - Step [100/390]   Loss = 2.3027   Accuracy = 0.1031\n",
            "( 0:17:35.311103 )  Epoch [2/2] - Step [110/390]   Loss = 2.3028   Accuracy = 0.0766\n",
            "( 0:19:10.210389 )  Epoch [2/2] - Step [120/390]   Loss = 2.3024   Accuracy = 0.0875\n",
            "( 0:20:45.203462 )  Epoch [2/2] - Step [130/390]   Loss = 2.3024   Accuracy = 0.0844\n",
            "( 0:22:20.171665 )  Epoch [2/2] - Step [140/390]   Loss = 2.3024   Accuracy = 0.1078\n",
            "( 0:23:54.976381 )  Epoch [2/2] - Step [150/390]   Loss = 2.3021   Accuracy = 0.0906\n",
            "( 0:25:29.979520 )  Epoch [2/2] - Step [160/390]   Loss = 2.3026   Accuracy = 0.0938\n",
            "( 0:27:05.082929 )  Epoch [2/2] - Step [170/390]   Loss = 2.3027   Accuracy = 0.0891\n",
            "( 0:28:40.026641 )  Epoch [2/2] - Step [180/390]   Loss = 2.3029   Accuracy = 0.0828\n",
            "( 0:30:14.985731 )  Epoch [2/2] - Step [190/390]   Loss = 2.3024   Accuracy = 0.1031\n",
            "( 0:31:49.911792 )  Epoch [2/2] - Step [200/390]   Loss = 2.3026   Accuracy = 0.0953\n",
            "( 0:33:24.796389 )  Epoch [2/2] - Step [210/390]   Loss = 2.3025   Accuracy = 0.0969\n",
            "( 0:34:59.666107 )  Epoch [2/2] - Step [220/390]   Loss = 2.3023   Accuracy = 0.1016\n",
            "( 0:36:34.679308 )  Epoch [2/2] - Step [230/390]   Loss = 2.3025   Accuracy = 0.1016\n",
            "( 0:38:09.525769 )  Epoch [2/2] - Step [240/390]   Loss = 2.3029   Accuracy = 0.1078\n",
            "( 0:39:44.489704 )  Epoch [2/2] - Step [250/390]   Loss = 2.3026   Accuracy = 0.0812\n",
            "( 0:41:19.382703 )  Epoch [2/2] - Step [260/390]   Loss = 2.3023   Accuracy = 0.1078\n",
            "( 0:42:54.262993 )  Epoch [2/2] - Step [270/390]   Loss = 2.3021   Accuracy = 0.1125\n",
            "( 0:44:29.028226 )  Epoch [2/2] - Step [280/390]   Loss = 2.3028   Accuracy = 0.1016\n",
            "( 0:46:03.963735 )  Epoch [2/2] - Step [290/390]   Loss = 2.3033   Accuracy = 0.0781\n",
            "( 0:47:38.864964 )  Epoch [2/2] - Step [300/390]   Loss = 2.3025   Accuracy = 0.1063\n",
            "( 0:49:13.739462 )  Epoch [2/2] - Step [310/390]   Loss = 2.3024   Accuracy = 0.1187\n",
            "( 0:50:48.561090 )  Epoch [2/2] - Step [320/390]   Loss = 2.3028   Accuracy = 0.0781\n",
            "( 0:52:23.494890 )  Epoch [2/2] - Step [330/390]   Loss = 2.3022   Accuracy = 0.0969\n",
            "( 0:53:58.409716 )  Epoch [2/2] - Step [340/390]   Loss = 2.3020   Accuracy = 0.1297\n",
            "( 0:55:33.228779 )  Epoch [2/2] - Step [350/390]   Loss = 2.3027   Accuracy = 0.1063\n",
            "( 0:57:08.135537 )  Epoch [2/2] - Step [360/390]   Loss = 2.3027   Accuracy = 0.0859\n",
            "( 0:58:42.987137 )  Epoch [2/2] - Step [370/390]   Loss = 2.3025   Accuracy = 0.1078\n",
            "( 1:00:17.844472 )  Epoch [2/2] - Step [380/390]   Loss = 2.3021   Accuracy = 0.1250\n",
            "( 1:01:49.953975 )  Epoch [2/2] - Step [390/390]   Loss = 2.3028   Accuracy = 0.0844\n",
            "( 1:01:49.958528 )  Epoch 2: Loss: 2.3025, Accuracy: 9.9160%\n",
            "Final architecture: {'normal_n2_p0': 'maxpool', 'normal_n2_p1': 'skipconnect', 'normal_n3_p0': 'skipconnect', 'normal_n3_p1': 'skipconnect', 'normal_n3_p2': 'maxpool', 'normal_n4_p0': 'avgpool', 'normal_n4_p1': 'avgpool', 'normal_n4_p2': 'maxpool', 'normal_n4_p3': 'skipconnect', 'normal_n5_p0': 'maxpool', 'normal_n5_p1': 'skipconnect', 'normal_n5_p2': 'skipconnect', 'normal_n5_p3': 'maxpool', 'normal_n5_p4': 'skipconnect', 'reduce_n2_p0': 'skipconnect', 'reduce_n2_p1': 'skipconnect', 'reduce_n3_p0': 'skipconnect', 'reduce_n3_p1': 'avgpool', 'reduce_n3_p2': 'skipconnect', 'reduce_n4_p0': 'avgpool', 'reduce_n4_p1': 'avgpool', 'reduce_n4_p2': 'skipconnect', 'reduce_n4_p3': 'skipconnect', 'reduce_n5_p0': 'skipconnect', 'reduce_n5_p1': 'maxpool', 'reduce_n5_p2': 'maxpool', 'reduce_n5_p3': 'skipconnect', 'reduce_n5_p4': 'skipconnect', 'normal_n2_switch': [0, 1], 'normal_n3_switch': [0, 2], 'normal_n4_switch': [1, 0], 'normal_n5_switch': [1, 2], 'reduce_n2_switch': [0, 1], 'reduce_n3_switch': [1, 2], 'reduce_n4_switch': [0, 3], 'reduce_n5_switch': [0, 3]}\n"
          ]
        },
        {
          "output_type": "execute_result",
          "data": {
            "text/plain": [
              ""
            ]
          },
          "metadata": {},
          "execution_count": 4
        }
      ],
      "source": [
        "%%shell\n",
        "python search.py --layer=3 --epoch=2"
      ]
    },
    {
      "cell_type": "markdown",
      "metadata": {
        "id": "ntdvDNHgu0H8"
      },
      "source": [
        "## Informations complémentaires :\n",
        "\n",
        "- Architectures de cellule générées (si précisé en argument --visualization) disponibles dans le dossier /img"
      ]
    }
  ],
  "metadata": {
    "accelerator": "GPU",
    "colab": {
      "name": "DARTS_v2-TensorFlow.ipynb",
      "provenance": [],
      "collapsed_sections": []
    },
    "kernelspec": {
      "display_name": "Python 3",
      "name": "python3"
    },
    "language_info": {
      "name": "python"
    }
  },
  "nbformat": 4,
  "nbformat_minor": 0
}