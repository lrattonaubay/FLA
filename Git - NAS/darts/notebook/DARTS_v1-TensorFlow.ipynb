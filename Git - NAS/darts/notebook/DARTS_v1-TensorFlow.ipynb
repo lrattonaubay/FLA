{
  "cells": [
    {
      "cell_type": "markdown",
      "metadata": {
        "id": "f5JTEfFopL2a"
      },
      "source": [
        "# DARTS (Differentiable Architecture Search)"
      ]
    },
    {
      "cell_type": "markdown",
      "metadata": {
        "id": "O6Lk07rHtG6b"
      },
      "source": [
        "## Quelques instructions :\n",
        "\n",
        "- Télécharger le projet [GitLab](http://gitlab.aubay.io/development/innov/fla/poc/2022-s1/nas.git) \n",
        "- L'importer sur son drive\n",
        "\n"
      ]
    },
    {
      "cell_type": "markdown",
      "metadata": {
        "id": "RBE7GDhUtWiZ"
      },
      "source": [
        "## Mise en place :\n",
        "\n",
        "- Connection au drive contenant le projet\n",
        "- Accès aux fichier nécessaires"
      ]
    },
    {
      "cell_type": "code",
      "execution_count": 1,
      "metadata": {
        "colab": {
          "base_uri": "https://localhost:8080/"
        },
        "id": "_TIeL64yzw3K",
        "outputId": "e50e3a46-66d1-456a-c280-29fda8a5f370"
      },
      "outputs": [
        {
          "output_type": "stream",
          "name": "stdout",
          "text": [
            "Drive already mounted at /content/drive; to attempt to forcibly remount, call drive.mount(\"/content/drive\", force_remount=True).\n"
          ]
        }
      ],
      "source": [
        "from google.colab import drive\n",
        "drive.mount('/content/drive')"
      ]
    },
    {
      "cell_type": "code",
      "execution_count": 2,
      "metadata": {
        "colab": {
          "base_uri": "https://localhost:8080/"
        },
        "id": "QqFZZAfYF7JR",
        "outputId": "1ae913c6-1a7c-4982-d1a5-f8c3499a1a9b"
      },
      "outputs": [
        {
          "output_type": "stream",
          "name": "stdout",
          "text": [
            "/content/drive/MyDrive/nas-main/darts/project/tensorflow/darts_v1\n",
            "choices.py         darts.py        env.yml   \u001b[0m\u001b[01;34m__pycache__\u001b[0m/\n",
            "choices_utils.py   darts_utils.py  model.py  search.py\n",
            "darts_mutables.py  datasets.py     ops.py    utils.py\n"
          ]
        }
      ],
      "source": [
        "%cd drive/MyDrive/nas-main/darts/project/tensorflow/darts_v1\n",
        "%ls"
      ]
    },
    {
      "cell_type": "markdown",
      "metadata": {
        "id": "xXnJSq5fte1r"
      },
      "source": [
        "## Insallation des librairies :\n",
        "\n",
        "- nni pour les classes de base sur lesquelles reposent le DARTS\n",
        "- graphviz pour générer une visualisation graphique de l'architecture d'une cellule (en cas d'appel de l'argument --visualization)"
      ]
    },
    {
      "cell_type": "code",
      "execution_count": 3,
      "metadata": {
        "colab": {
          "base_uri": "https://localhost:8080/"
        },
        "id": "xFWMrfZoHg0D",
        "outputId": "786a3229-e27a-44e1-9327-b8e05275e8fd"
      },
      "outputs": [
        {
          "output_type": "stream",
          "name": "stdout",
          "text": [
            "Requirement already satisfied: graphviz in /usr/local/lib/python3.7/dist-packages (0.10.1)\n"
          ]
        }
      ],
      "source": [
        "!pip install graphviz"
      ]
    },
    {
      "cell_type": "markdown",
      "metadata": {
        "id": "L16wipH1uCRD"
      },
      "source": [
        "## Lancement du code :"
      ]
    },
    {
      "cell_type": "code",
      "execution_count": 4,
      "metadata": {
        "colab": {
          "base_uri": "https://localhost:8080/"
        },
        "id": "xN66UWPQGFcr",
        "outputId": "6baa4be5-14d2-4657-8190-30054bf76b68"
      },
      "outputs": [
        {
          "output_type": "stream",
          "name": "stdout",
          "text": [
            "Downloading data from https://www.cs.toronto.edu/~kriz/cifar-10-python.tar.gz\n",
            "170500096/170498071 [==============================] - 2s 0us/step\n",
            "170508288/170498071 [==============================] - 2s 0us/step\n",
            "tcmalloc: large alloc 1228800000 bytes == 0x13d48000 @  0x7f9d9315b1e7 0x7f9d505380ce 0x7f9d5058ecf5 0x7f9d5058ee08 0x7f9d5064e0f4 0x7f9d5065130c 0x7f9d507d83ac 0x7f9d507d8e10 0x59588e 0x595b69 0x7f9d506588a3 0x4d1138 0x5132c4 0x593dd7 0x548ae9 0x51566f 0x549576 0x604173 0x5f5506 0x5f8c6c 0x5f9206 0x64faf2 0x64fc4e 0x7f9d92d58c87 0x5b621a\n",
            "2022-05-23 13:37:39.656012: W tensorflow/core/common_runtime/gpu/gpu_bfc_allocator.cc:39] Overriding allow_growth setting because the TF_FORCE_GPU_ALLOW_GROWTH environment variable is set. Original config value was 0.\n",
            "2022-05-23 13:37:41.351097: W tensorflow/python/util/util.cc:368] Sets are not currently considered sequences, but this may change in the future, so consider avoiding using them.\n",
            "( 0:00:20.138946 )  Epoch [1/2] - Step [0/390]   Loss = 2.3665\n",
            "( 0:00:43.729033 )  Epoch [1/2] - Step [10/390]   Loss = 0.3151\n",
            "( 0:01:07.719651 )  Epoch [1/2] - Step [20/390]   Loss = 0.0049\n",
            "( 0:01:31.820797 )  Epoch [1/2] - Step [30/390]   Loss = 0.0007\n",
            "( 0:01:56.230334 )  Epoch [1/2] - Step [40/390]   Loss = 0.0003\n",
            "( 0:02:20.747058 )  Epoch [1/2] - Step [50/390]   Loss = 0.0002\n",
            "( 0:02:45.581447 )  Epoch [1/2] - Step [60/390]   Loss = 0.0002\n",
            "( 0:03:10.531979 )  Epoch [1/2] - Step [70/390]   Loss = 0.0002\n",
            "( 0:03:35.478931 )  Epoch [1/2] - Step [80/390]   Loss = 0.0002\n",
            "( 0:04:00.659731 )  Epoch [1/2] - Step [90/390]   Loss = 0.0002\n",
            "( 0:04:25.836233 )  Epoch [1/2] - Step [100/390]   Loss = 0.0002\n",
            "( 0:04:51.467781 )  Epoch [1/2] - Step [110/390]   Loss = 0.0002\n",
            "( 0:05:16.907345 )  Epoch [1/2] - Step [120/390]   Loss = 0.0002\n",
            "( 0:05:42.316935 )  Epoch [1/2] - Step [130/390]   Loss = 0.0002\n",
            "( 0:06:07.792426 )  Epoch [1/2] - Step [140/390]   Loss = 0.0002\n",
            "( 0:06:33.164058 )  Epoch [1/2] - Step [150/390]   Loss = 0.0002\n",
            "( 0:06:58.513243 )  Epoch [1/2] - Step [160/390]   Loss = 0.0002\n",
            "( 0:07:23.943047 )  Epoch [1/2] - Step [170/390]   Loss = 0.0002\n",
            "( 0:07:49.483961 )  Epoch [1/2] - Step [180/390]   Loss = 0.0002\n",
            "( 0:08:14.999069 )  Epoch [1/2] - Step [190/390]   Loss = 0.0002\n",
            "( 0:08:40.501010 )  Epoch [1/2] - Step [200/390]   Loss = 0.0002\n",
            "( 0:09:05.927971 )  Epoch [1/2] - Step [210/390]   Loss = 0.0002\n",
            "( 0:09:31.391422 )  Epoch [1/2] - Step [220/390]   Loss = 0.0002\n",
            "( 0:09:56.921233 )  Epoch [1/2] - Step [230/390]   Loss = 0.0002\n",
            "( 0:10:22.581113 )  Epoch [1/2] - Step [240/390]   Loss = 0.0002\n",
            "( 0:10:48.134512 )  Epoch [1/2] - Step [250/390]   Loss = 0.0002\n",
            "( 0:11:13.634087 )  Epoch [1/2] - Step [260/390]   Loss = 0.0002\n",
            "( 0:11:39.127972 )  Epoch [1/2] - Step [270/390]   Loss = 0.0002\n",
            "( 0:12:04.663317 )  Epoch [1/2] - Step [280/390]   Loss = 0.0002\n",
            "( 0:12:30.153823 )  Epoch [1/2] - Step [290/390]   Loss = 0.0002\n",
            "( 0:12:55.657406 )  Epoch [1/2] - Step [300/390]   Loss = 0.0002\n",
            "( 0:13:21.165559 )  Epoch [1/2] - Step [310/390]   Loss = 0.0001\n",
            "( 0:13:46.657954 )  Epoch [1/2] - Step [320/390]   Loss = 0.0001\n",
            "( 0:14:12.046632 )  Epoch [1/2] - Step [330/390]   Loss = 0.0001\n",
            "( 0:14:37.459565 )  Epoch [1/2] - Step [340/390]   Loss = 0.0001\n",
            "( 0:15:02.921342 )  Epoch [1/2] - Step [350/390]   Loss = 0.0001\n",
            "( 0:15:28.375845 )  Epoch [1/2] - Step [360/390]   Loss = 0.0001\n",
            "( 0:15:53.804092 )  Epoch [1/2] - Step [370/390]   Loss = 0.0001\n",
            "( 0:16:19.129641 )  Epoch [1/2] - Step [380/390]   Loss = 0.0001\n",
            "( 0:16:47.386651 )  Epoch [1/2] - Step [390/390]   Loss = 0.0001\n",
            "Epoch 1: Loss: 0.0414, Accuracy: 10.0160%\n",
            "( 0:16:50.372766 )  Epoch [2/2] - Step [0/390]   Loss = 0.0001\n",
            "( 0:17:15.688527 )  Epoch [2/2] - Step [10/390]   Loss = 0.0001\n",
            "( 0:17:41.021345 )  Epoch [2/2] - Step [20/390]   Loss = 0.0001\n",
            "( 0:18:06.270628 )  Epoch [2/2] - Step [30/390]   Loss = 0.0001\n",
            "( 0:18:31.538686 )  Epoch [2/2] - Step [40/390]   Loss = 0.0001\n",
            "( 0:18:57.000829 )  Epoch [2/2] - Step [50/390]   Loss = 0.0001\n",
            "( 0:19:23.412968 )  Epoch [2/2] - Step [60/390]   Loss = 0.0001\n",
            "( 0:19:49.758500 )  Epoch [2/2] - Step [70/390]   Loss = 0.0001\n",
            "( 0:20:15.735351 )  Epoch [2/2] - Step [80/390]   Loss = 0.0001\n",
            "( 0:20:41.815356 )  Epoch [2/2] - Step [90/390]   Loss = 0.0001\n",
            "( 0:21:08.128619 )  Epoch [2/2] - Step [100/390]   Loss = 0.0001\n",
            "( 0:21:34.344269 )  Epoch [2/2] - Step [110/390]   Loss = 0.0001\n",
            "( 0:22:00.472194 )  Epoch [2/2] - Step [120/390]   Loss = 0.0001\n",
            "( 0:22:26.540671 )  Epoch [2/2] - Step [130/390]   Loss = 0.0001\n",
            "( 0:22:52.733224 )  Epoch [2/2] - Step [140/390]   Loss = 0.0001\n",
            "( 0:23:18.820770 )  Epoch [2/2] - Step [150/390]   Loss = 0.0001\n",
            "( 0:23:44.967310 )  Epoch [2/2] - Step [160/390]   Loss = 0.0001\n",
            "( 0:24:11.070189 )  Epoch [2/2] - Step [170/390]   Loss = 0.0001\n",
            "( 0:24:37.095096 )  Epoch [2/2] - Step [180/390]   Loss = 0.0001\n",
            "( 0:25:03.221227 )  Epoch [2/2] - Step [190/390]   Loss = 0.0001\n",
            "( 0:25:29.272609 )  Epoch [2/2] - Step [200/390]   Loss = 0.0001\n",
            "( 0:25:55.417496 )  Epoch [2/2] - Step [210/390]   Loss = 0.0001\n",
            "( 0:26:21.499201 )  Epoch [2/2] - Step [220/390]   Loss = 0.0001\n",
            "( 0:26:47.600418 )  Epoch [2/2] - Step [230/390]   Loss = 0.0001\n",
            "( 0:27:13.711939 )  Epoch [2/2] - Step [240/390]   Loss = 0.0001\n",
            "( 0:27:39.883295 )  Epoch [2/2] - Step [250/390]   Loss = 0.0001\n",
            "( 0:28:06.031743 )  Epoch [2/2] - Step [260/390]   Loss = 0.0001\n",
            "( 0:28:32.143848 )  Epoch [2/2] - Step [270/390]   Loss = 0.0001\n",
            "( 0:28:58.499184 )  Epoch [2/2] - Step [280/390]   Loss = 0.0001\n",
            "( 0:29:24.588421 )  Epoch [2/2] - Step [290/390]   Loss = 0.0001\n",
            "( 0:29:50.732148 )  Epoch [2/2] - Step [300/390]   Loss = 0.0001\n",
            "( 0:30:16.955869 )  Epoch [2/2] - Step [310/390]   Loss = 0.0001\n",
            "( 0:30:43.105274 )  Epoch [2/2] - Step [320/390]   Loss = 0.0001\n",
            "( 0:31:09.224081 )  Epoch [2/2] - Step [330/390]   Loss = 0.0001\n",
            "( 0:31:35.332767 )  Epoch [2/2] - Step [340/390]   Loss = 0.0001\n",
            "( 0:32:01.396339 )  Epoch [2/2] - Step [350/390]   Loss = 0.0001\n",
            "( 0:32:27.576142 )  Epoch [2/2] - Step [360/390]   Loss = 0.0001\n",
            "( 0:32:53.615289 )  Epoch [2/2] - Step [370/390]   Loss = 0.0001\n",
            "( 0:33:19.727188 )  Epoch [2/2] - Step [380/390]   Loss = 0.0001\n",
            "( 0:33:44.997952 )  Epoch [2/2] - Step [390/390]   Loss = 0.0001\n",
            "Epoch 2: Loss: 0.0001, Accuracy: 10.0360%\n",
            "Final architecture: {'normal_n2_p0': 'dilconv3x3', 'normal_n2_p1': 'dilconv3x3', 'normal_n3_p0': 'avgpool', 'normal_n3_p1': 'maxpool', 'normal_n3_p2': 'sepconv5x5', 'normal_n4_p0': 'maxpool', 'normal_n4_p1': 'sepconv3x3', 'normal_n4_p2': 'dilconv3x3', 'normal_n4_p3': 'avgpool', 'normal_n5_p0': 'dilconv3x3', 'normal_n5_p1': 'dilconv5x5', 'normal_n5_p2': 'dilconv3x3', 'normal_n5_p3': 'dilconv5x5', 'normal_n5_p4': 'dilconv3x3', 'reduce_n2_p0': 'dilconv3x3', 'reduce_n2_p1': 'sepconv3x3', 'reduce_n3_p0': 'skipconnect', 'reduce_n3_p1': 'dilconv5x5', 'reduce_n3_p2': 'dilconv3x3', 'reduce_n4_p0': 'dilconv3x3', 'reduce_n4_p1': 'maxpool', 'reduce_n4_p2': 'sepconv5x5', 'reduce_n4_p3': 'avgpool', 'reduce_n5_p0': 'maxpool', 'reduce_n5_p1': 'skipconnect', 'reduce_n5_p2': 'sepconv5x5', 'reduce_n5_p3': 'maxpool', 'reduce_n5_p4': 'maxpool', 'normal_n2_switch': [0, 1], 'normal_n3_switch': [2, 1], 'normal_n4_switch': [3, 1], 'normal_n5_switch': [1, 2], 'reduce_n2_switch': [1, 0], 'reduce_n3_switch': [1, 2], 'reduce_n4_switch': [3, 1], 'reduce_n5_switch': [4, 1]}\n"
          ]
        },
        {
          "output_type": "execute_result",
          "data": {
            "text/plain": [
              ""
            ]
          },
          "metadata": {},
          "execution_count": 4
        }
      ],
      "source": [
        "%%shell\n",
        "python search.py --layer=3 --epoch=2"
      ]
    },
    {
      "cell_type": "markdown",
      "metadata": {
        "id": "ntdvDNHgu0H8"
      },
      "source": [
        "## Informations complémentaires :\n",
        "\n",
        "- Architectures de cellule générées (si précisé en argument avec --visualization) disponibles dans le dossier /img"
      ]
    }
  ],
  "metadata": {
    "accelerator": "GPU",
    "colab": {
      "name": "DARTS_v1-TensorFlow.ipynb",
      "provenance": [],
      "collapsed_sections": []
    },
    "kernelspec": {
      "display_name": "Python 3",
      "name": "python3"
    },
    "language_info": {
      "name": "python"
    }
  },
  "nbformat": 4,
  "nbformat_minor": 0
}