{
  "nbformat": 4,
  "nbformat_minor": 0,
  "metadata": {
    "colab": {
      "name": "Conversion export en normal-reduce.ipynb",
      "provenance": []
    },
    "kernelspec": {
      "name": "python3",
      "display_name": "Python 3"
    },
    "language_info": {
      "name": "python"
    }
  },
  "cells": [
    {
      "cell_type": "markdown",
      "source": [
        "# Creation of functions\n",
        "\n",
        "Functions used to convert the raw output from the nni library into a format more easily understandable by humans."
      ],
      "metadata": {
        "id": "0xBhaKIw0oax"
      }
    },
    {
      "cell_type": "code",
      "execution_count": 3,
      "metadata": {
        "id": "YslM0msoyPDH"
      },
      "outputs": [],
      "source": [
        "def split_normal_reduce(arc):\n",
        "    \"\"\"\n",
        "    Description\n",
        "    ---------------\n",
        "    Splits the architecture given as an input into normal and reduce dictionaries\n",
        "\n",
        "    Input(s)\n",
        "    ---------------\n",
        "    arc: dict\n",
        "\n",
        "    Output(s)\n",
        "    ---------------\n",
        "    arc_normal: dict\n",
        "    arc_reduce: dict\n",
        "    \"\"\"\n",
        "    arc_normal, arc_reduce = dict(),dict()\n",
        "    for key in arc.keys():\n",
        "        if \"normal\" in key:\n",
        "            arc_normal[key]=arc[key]\n",
        "        elif \"reduce\" in key:\n",
        "            arc_reduce[key]=arc[key]\n",
        "        else:\n",
        "            print(\"Issue encountered : the following value is neither normal nor reduce\", key)\n",
        "    return arc_normal, arc_reduce\n",
        "\n",
        "def convert_to_simple(arc):\n",
        "    \"\"\"\n",
        "    Description\n",
        "    ---------------\n",
        "    Converts the architecture format into a simpler and more easily readable format.\n",
        "    It also removes all the branches that are not used, based on the \"switch\" parameters\n",
        "\n",
        "    Input(s)\n",
        "    ---------------\n",
        "    arc: dict\n",
        "\n",
        "    Output(s)\n",
        "    ---------------\n",
        "    kept_arc: dict\n",
        "    \"\"\"\n",
        "    kept_arc_index = []\n",
        "    kept_arc = dict()\n",
        "    for value in arc.values():\n",
        "        if type(value)==type([1,2]):\n",
        "            kept_arc_index.append(value)\n",
        "    prev_inc = 0\n",
        "    increment = 2\n",
        "    j=2\n",
        "    for pair in kept_arc_index:\n",
        "        keys_available = list(arc.keys())[prev_inc:increment]\n",
        "        values = dict()\n",
        "        for i in pair:\n",
        "            values[i]= arc[keys_available[i]]\n",
        "        kept_arc[j] = values\n",
        "        prev_inc= increment\n",
        "        increment += j+1\n",
        "        j+=1\n",
        "    \n",
        "    # print(kept_arc)\n",
        "    return kept_arc\n",
        "\n",
        "def split_prep(arc):\n",
        "  arc_norm,arc_red = split_normal_reduce(arc)\n",
        "  arc_norm = convert_to_simple(arc_norm)\n",
        "  arc_red = convert_to_simple(arc_red)\n",
        "  return arc_norm,arc_red"
      ]
    },
    {
      "cell_type": "markdown",
      "source": [
        "## Example of usage\n",
        "\n",
        "input_dict_1 is a real output of the model that can be used."
      ],
      "metadata": {
        "id": "IbNsRYU4z-8h"
      }
    },
    {
      "cell_type": "code",
      "source": [
        "input_dict_1 = {\n",
        "    'normal_n2_p0': 'maxpool', \n",
        "    'normal_n2_p1': 'maxpool', \n",
        "    'normal_n3_p0': 'maxpool', \n",
        "    'normal_n3_p1': 'maxpool', \n",
        "    'normal_n3_p2': 'maxpool', \n",
        "    'normal_n4_p0': 'maxpool', \n",
        "    'normal_n4_p1': 'maxpool', \n",
        "    'normal_n4_p2': 'maxpool', \n",
        "    'normal_n4_p3': 'maxpool', \n",
        "    'normal_n5_p0': 'maxpool', \n",
        "    'normal_n5_p1': 'maxpool', \n",
        "    'normal_n5_p2': 'maxpool', \n",
        "    'normal_n5_p3': 'maxpool', \n",
        "    'normal_n5_p4': 'maxpool',\n",
        "    'reduce_n2_p0': 'maxpool', \n",
        "    'reduce_n2_p1': 'maxpool', \n",
        "    'reduce_n3_p0': 'maxpool', \n",
        "    'reduce_n3_p1': 'sepconv5x5', \n",
        "    'reduce_n3_p2': 'maxpool', \n",
        "    'reduce_n4_p0': 'maxpool', \n",
        "    'reduce_n4_p1': 'maxpool', \n",
        "    'reduce_n4_p2': 'dilconv5x5', \n",
        "    'reduce_n4_p3': 'maxpool', \n",
        "    'reduce_n5_p0': 'maxpool', \n",
        "    'reduce_n5_p1': 'sepconv5x5', \n",
        "    'reduce_n5_p2': 'maxpool', \n",
        "    'reduce_n5_p3': 'dilconv5x5', \n",
        "    'reduce_n5_p4': 'maxpool', \n",
        "    'normal_n2_switch': [1, 0], \n",
        "    'normal_n3_switch': [2, 1], \n",
        "    'normal_n4_switch': [3, 2], \n",
        "    'normal_n5_switch': [2, 4], \n",
        "    'reduce_n2_switch': [1, 0], \n",
        "    'reduce_n3_switch': [2, 1], \n",
        "    'reduce_n4_switch': [3, 2], \n",
        "    'reduce_n5_switch': [3, 4] \n",
        "}\n",
        "\n",
        "dict_normal_1, dict_reduce_1 = split_normal_reduce(input_dict_1)\n",
        "dict_normal_1 = convert_to_simple(dict_normal_1)\n",
        "dict_reduce_1 = convert_to_simple(dict_reduce_1)\n",
        "\n",
        "dict_normal_2, dict_reduce_2 = split_prep(input_dict_1)\n",
        "print(dict_normal_1)\n",
        "print(dict_normal_2)\n",
        "print(dict_reduce_1)\n",
        "print(dict_reduce_2)"
      ],
      "metadata": {
        "colab": {
          "base_uri": "https://localhost:8080/"
        },
        "id": "4JeRJrn9zhGz",
        "outputId": "5b1767de-4856-4f93-d8ea-d7f9b48bb571"
      },
      "execution_count": 4,
      "outputs": [
        {
          "output_type": "stream",
          "name": "stdout",
          "text": [
            "{2: {1: 'maxpool', 0: 'maxpool'}, 3: {2: 'maxpool', 1: 'maxpool'}, 4: {3: 'maxpool', 2: 'maxpool'}, 5: {2: 'maxpool', 4: 'maxpool'}}\n",
            "{2: {1: 'maxpool', 0: 'maxpool'}, 3: {2: 'maxpool', 1: 'maxpool'}, 4: {3: 'maxpool', 2: 'maxpool'}, 5: {2: 'maxpool', 4: 'maxpool'}}\n",
            "{2: {1: 'maxpool', 0: 'maxpool'}, 3: {2: 'maxpool', 1: 'sepconv5x5'}, 4: {3: 'maxpool', 2: 'dilconv5x5'}, 5: {3: 'dilconv5x5', 4: 'maxpool'}}\n",
            "{2: {1: 'maxpool', 0: 'maxpool'}, 3: {2: 'maxpool', 1: 'sepconv5x5'}, 4: {3: 'maxpool', 2: 'dilconv5x5'}, 5: {3: 'dilconv5x5', 4: 'maxpool'}}\n"
          ]
        }
      ]
    }
  ]
}